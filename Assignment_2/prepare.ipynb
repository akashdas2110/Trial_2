{
  "cells": [
    {
      "cell_type": "markdown",
      "metadata": {
        "id": "QSa4_IBmK19f"
      },
      "source": [
        "# Import Necessary Libraries"
      ]
    },
    {
      "cell_type": "code",
      "execution_count": 33,
      "metadata": {
        "colab": {
          "base_uri": "https://localhost:8080/"
        },
        "id": "_uGb9GTvrQWh",
        "outputId": "0712c9dc-43e4-4011-8a80-331726212ca1"
      },
      "outputs": [
        {
          "name": "stderr",
          "output_type": "stream",
          "text": [
            "[nltk_data] Downloading package punkt to\n",
            "[nltk_data]     C:\\Users\\USER\\AppData\\Roaming\\nltk_data...\n",
            "[nltk_data]   Package punkt is already up-to-date!\n",
            "[nltk_data] Downloading package stopwords to\n",
            "[nltk_data]     C:\\Users\\USER\\AppData\\Roaming\\nltk_data...\n",
            "[nltk_data]   Package stopwords is already up-to-date!\n",
            "[nltk_data] Downloading package wordnet to\n",
            "[nltk_data]     C:\\Users\\USER\\AppData\\Roaming\\nltk_data...\n",
            "[nltk_data]   Package wordnet is already up-to-date!\n"
          ]
        }
      ],
      "source": [
        "import pandas as pd\n",
        "from sklearn.model_selection import train_test_split\n",
        "import os\n",
        "import re\n",
        "from nltk.corpus import stopwords\n",
        "from nltk.stem import WordNetLemmatizer\n",
        "from nltk.tokenize import word_tokenize\n",
        "import nltk\n",
        "\n",
        "nltk.download('punkt')\n",
        "nltk.download('stopwords')\n",
        "nltk.download('wordnet')\n",
        "\n",
        "import dvc"
      ]
    },
    {
      "cell_type": "code",
      "execution_count": 34,
      "metadata": {
        "colab": {
          "base_uri": "https://localhost:8080/"
        },
        "id": "NzQR2mDbiLo8",
        "outputId": "b03bcbea-0df2-4779-ec33-f393a2f8c7cb"
      },
      "outputs": [],
      "source": [
        "# from google.colab import drive\n",
        "# drive.mount('/content/drive')"
      ]
    },
    {
      "cell_type": "markdown",
      "metadata": {
        "id": "WPa8uLrTLAXe"
      },
      "source": [
        "# Define Necessary Functions"
      ]
    },
    {
      "cell_type": "code",
      "execution_count": 35,
      "metadata": {
        "id": "gPYfeYaprQWj"
      },
      "outputs": [],
      "source": [
        "# Function to load data from a given file path\n",
        "def load_data(file_path):\n",
        "    data = pd.read_csv(file_path)\n",
        "    return data\n",
        "\n",
        "# Function to preprocess the data\n",
        "def preprocess_data(data):\n",
        "    # Lowercasing\n",
        "    data['text'] = data['text'].apply(lambda x: x.lower())\n",
        "    # Tokenization\n",
        "    data['text'] = data['text'].apply(lambda x: word_tokenize(x))\n",
        "    # Removing stopwords\n",
        "    stop_words = set(stopwords.words('english'))\n",
        "    data['text'] = data['text'].apply(lambda x: [word for word in x if word not in stop_words])\n",
        "    # Lemmatization\n",
        "    lemmatizer = WordNetLemmatizer()\n",
        "    data['text'] = data['text'].apply(lambda x: [lemmatizer.lemmatize(word) for word in x])\n",
        "    # Joining tokens back to string\n",
        "    data['text'] = data['text'].apply(lambda x: ' '.join(x))\n",
        "    return data\n",
        "\n",
        "# Function to split the data into train/validation/test sets\n",
        "def split_data(data, r_state, test_size=0.2, val_size=0.25):\n",
        "    # Splitting data into train and temp (temp will be further split into validation and test)\n",
        "    train_data, temp_data = train_test_split(data, test_size=test_size, random_state=r_state)\n",
        "    # Splitting temp_data into validation and test\n",
        "    validation_data, test_data = train_test_split(temp_data, test_size=val_size, random_state=r_state)\n",
        "    return train_data, validation_data, test_data\n",
        "\n",
        "\n",
        "\n",
        "# Function to store the splits at train.csv/validation.csv/test.csv\n",
        "def store_splits(train_data, validation_data, test_data, output_path):\n",
        "    train_data.to_csv(output_path + 'train.csv', index=False)\n",
        "    validation_data.to_csv(output_path + 'validation.csv', index=False)\n",
        "    test_data.to_csv(output_path + 'test.csv', index=False)\n",
        "\n",
        "\n",
        "# Function to calculate target variable distribution of train.csv/validation.csv/test.csv\n",
        "def label_dist(path):\n",
        "    data = pd.read_csv(path)\n",
        "    print(data[\"spam\"].value_counts())\n",
        "\n"
      ]
    },
    {
      "cell_type": "markdown",
      "metadata": {
        "id": "GCI47QVhL-C8"
      },
      "source": [
        "# Load data"
      ]
    },
    {
      "cell_type": "code",
      "execution_count": 36,
      "metadata": {
        "id": "wj5USMyCwYFA"
      },
      "outputs": [],
      "source": [
        "file_path = r'Data/emails.csv'  # Update with the actual path\n",
        "data = load_data(file_path)"
      ]
    },
    {
      "cell_type": "markdown",
      "metadata": {
        "id": "Tv9tb9W6MC-d"
      },
      "source": [
        "\n",
        "# Preprocess data"
      ]
    },
    {
      "cell_type": "code",
      "execution_count": 37,
      "metadata": {
        "id": "lkIEfXQ7weUV"
      },
      "outputs": [],
      "source": [
        "processed_data= preprocess_data(data)"
      ]
    },
    {
      "cell_type": "markdown",
      "metadata": {
        "id": "rhoPGukFMHAP"
      },
      "source": [
        "\n",
        "# First split of data using seed=42"
      ]
    },
    {
      "cell_type": "code",
      "execution_count": 38,
      "metadata": {
        "id": "4AI2UUY_wYFB"
      },
      "outputs": [],
      "source": [
        "train_data, validation_data, test_data = split_data(processed_data,r_state=42, test_size=0.2, val_size=0.25)\n"
      ]
    },
    {
      "cell_type": "markdown",
      "metadata": {
        "id": "bfYopydCMIlK"
      },
      "source": [
        "# Store Splited Data"
      ]
    },
    {
      "cell_type": "code",
      "execution_count": 39,
      "metadata": {
        "id": "ZB89-U1exmzJ"
      },
      "outputs": [],
      "source": [
        "store_splits(train_data, validation_data, test_data, output_path=r'Data/Splited_Data_Seed_42/')"
      ]
    },
    {
      "cell_type": "markdown",
      "metadata": {},
      "source": [
        "## Initialize DVC for tracking Splitted data"
      ]
    },
    {
      "cell_type": "code",
      "execution_count": 40,
      "metadata": {},
      "outputs": [
        {
          "name": "stdout",
          "output_type": "stream",
          "text": [
            "Initialized DVC repository.\n",
            "\n",
            "You can now commit the changes to git.\n",
            "\n",
            "+---------------------------------------------------------------------+\n",
            "|                                                                     |\n",
            "|        DVC has enabled anonymous aggregate usage analytics.         |\n",
            "|     Read the analytics documentation (and how to opt-out) here:     |\n",
            "|             <https://dvc.org/doc/user-guide/analytics>              |\n",
            "|                                                                     |\n",
            "+---------------------------------------------------------------------+\n",
            "\n",
            "What's next?\n",
            "------------"
          ]
        },
        {
          "name": "stdout",
          "output_type": "stream",
          "text": [
            "\n",
            "- Check out the documentation: <https://dvc.org/doc>\n",
            "- Get help and share ideas: <https://dvc.org/chat>\n",
            "- Star us on GitHub: <https://github.com/iterative/dvc>\n"
          ]
        }
      ],
      "source": [
        "!dvc init"
      ]
    },
    {
      "cell_type": "markdown",
      "metadata": {},
      "source": [
        "Adding all the 3 splitted csv files to dvc"
      ]
    },
    {
      "cell_type": "code",
      "execution_count": 41,
      "metadata": {},
      "outputs": [
        {
          "name": "stdout",
          "output_type": "stream",
          "text": [
            "\n"
          ]
        },
        {
          "name": "stderr",
          "output_type": "stream",
          "text": [
            "⠋ Checking graph"
          ]
        },
        {
          "name": "stdout",
          "output_type": "stream",
          "text": [
            "To track the changes with git, run:"
          ]
        },
        {
          "name": "stderr",
          "output_type": "stream",
          "text": [
            "\n"
          ]
        },
        {
          "name": "stdout",
          "output_type": "stream",
          "text": [
            "\n"
          ]
        },
        {
          "name": "stderr",
          "output_type": "stream",
          "text": [
            "\n"
          ]
        },
        {
          "name": "stdout",
          "output_type": "stream",
          "text": [
            "\n",
            "\tgit add 'Data\\Splited_Data_Seed_42\\.gitignore' 'Data\\Splited_Data_Seed_42\\train.csv.dvc'\n",
            "\n",
            "To enable auto staging, run:\n",
            "\n",
            "\tdvc config core.autostage true\n"
          ]
        },
        {
          "name": "stderr",
          "output_type": "stream",
          "text": [
            "⠋ Checking graph"
          ]
        },
        {
          "name": "stdout",
          "output_type": "stream",
          "text": [
            "\n",
            "To track the changes with git, run:"
          ]
        },
        {
          "name": "stderr",
          "output_type": "stream",
          "text": [
            "\n",
            "\n"
          ]
        },
        {
          "name": "stdout",
          "output_type": "stream",
          "text": [
            "\n",
            "\n",
            "\tgit add 'Data\\Splited_Data_Seed_42\\.gitignore' 'Data\\Splited_Data_Seed_42\\validation.csv.dvc'\n",
            "\n",
            "To enable auto staging, run:\n",
            "\n",
            "\tdvc config core.autostage true\n",
            "\n"
          ]
        },
        {
          "name": "stderr",
          "output_type": "stream",
          "text": [
            "⠋ Checking graph\n"
          ]
        },
        {
          "name": "stdout",
          "output_type": "stream",
          "text": [
            "To track the changes with git, run:"
          ]
        },
        {
          "name": "stderr",
          "output_type": "stream",
          "text": [
            "\n"
          ]
        },
        {
          "name": "stdout",
          "output_type": "stream",
          "text": [
            "\n",
            "\n",
            "\tgit add 'Data\\Splited_Data_Seed_42\\.gitignore' 'Data\\Splited_Data_Seed_42\\test.csv.dvc'\n",
            "\n",
            "To enable auto staging, run:\n",
            "\n",
            "\tdvc config core.autostage true\n"
          ]
        }
      ],
      "source": [
        "!dvc add Data/Splited_Data_Seed_42/train.csv\n",
        "!dvc add Data/Splited_Data_Seed_42/validation.csv\n",
        "!dvc add Data/Splited_Data_Seed_42/test.csv"
      ]
    },
    {
      "cell_type": "code",
      "execution_count": 42,
      "metadata": {},
      "outputs": [],
      "source": [
        "!dvc config core.autostage true"
      ]
    },
    {
      "cell_type": "markdown",
      "metadata": {},
      "source": [
        "Adding google drive folder as a remote data storage"
      ]
    },
    {
      "cell_type": "code",
      "execution_count": 43,
      "metadata": {},
      "outputs": [
        {
          "name": "stdout",
          "output_type": "stream",
          "text": [
            "Setting 'myremote' as a default remote.\n"
          ]
        }
      ],
      "source": [
        "!dvc remote add --default myremote gdrive://14FcFV3GhBnOIiSWJAKgCglVlrAtVXxqp"
      ]
    },
    {
      "cell_type": "code",
      "execution_count": 44,
      "metadata": {},
      "outputs": [],
      "source": [
        "!dvc remote modify myremote gdrive_acknowledge_abuse true"
      ]
    },
    {
      "cell_type": "markdown",
      "metadata": {},
      "source": [
        "Pushing dvc tracked files to remote storage"
      ]
    },
    {
      "cell_type": "code",
      "execution_count": null,
      "metadata": {},
      "outputs": [
        {
          "name": "stdout",
          "output_type": "stream",
          "text": [
            "3 files pushed\n"
          ]
        }
      ],
      "source": [
        "!dvc push"
      ]
    },
    {
      "cell_type": "code",
      "execution_count": null,
      "metadata": {},
      "outputs": [
        {
          "name": "stdout",
          "output_type": "stream",
          "text": [
            "Data and pipelines are up to date.\n"
          ]
        }
      ],
      "source": [
        "!dvc status"
      ]
    },
    {
      "cell_type": "markdown",
      "metadata": {},
      "source": [
        "Checkout for 1st version"
      ]
    },
    {
      "cell_type": "code",
      "execution_count": 47,
      "metadata": {},
      "outputs": [],
      "source": [
        "!dvc checkout Data/Splited_Data_Seed_42/train.csv.dvc\n",
        "!dvc checkout Data/Splited_Data_Seed_42/test.csv.dvc\n",
        "!dvc checkout Data/Splited_Data_Seed_42/validation.csv.dvc"
      ]
    },
    {
      "cell_type": "markdown",
      "metadata": {},
      "source": [
        "### The distribution of Target Variable in the splitted data\n",
        "For 1st Split (Random Seed: 42)"
      ]
    },
    {
      "cell_type": "code",
      "execution_count": 48,
      "metadata": {},
      "outputs": [
        {
          "name": "stdout",
          "output_type": "stream",
          "text": [
            "First Split (Random Seed: 42)\n",
            "\n",
            "Training dataset:\n",
            "0    3504\n",
            "1    1078\n",
            "Name: spam, dtype: int64\n",
            "\n",
            "Validation dataset:\n",
            "0    645\n",
            "1    214\n",
            "Name: spam, dtype: int64\n",
            "\n",
            "Testing dataset:\n",
            "0    211\n",
            "1     76\n",
            "Name: spam, dtype: int64\n"
          ]
        }
      ],
      "source": [
        "train_path = r'Data/Splited_Data_Seed_42/train.csv'\n",
        "val_path = r'Data/Splited_Data_Seed_42/validation.csv'\n",
        "test_path = r'Data/Splited_Data_Seed_42/test.csv'\n",
        "\n",
        "print(\"First Split (Random Seed: 42)\")\n",
        "print(\"\\nTraining dataset:\")\n",
        "label_dist(train_path)\n",
        "print(\"\\nValidation dataset:\")\n",
        "label_dist(val_path)\n",
        "print(\"\\nTesting dataset:\")\n",
        "label_dist(test_path)"
      ]
    },
    {
      "cell_type": "markdown",
      "metadata": {},
      "source": [
        "\n",
        "# Second split of data using seed=476"
      ]
    },
    {
      "cell_type": "code",
      "execution_count": 50,
      "metadata": {},
      "outputs": [],
      "source": [
        "train_data_2, validation_data_2, test_data_2 = split_data(processed_data,r_state=476, test_size=0.2, val_size=0.25)\n"
      ]
    },
    {
      "cell_type": "markdown",
      "metadata": {},
      "source": [
        "# Store Splited Data"
      ]
    },
    {
      "cell_type": "code",
      "execution_count": 51,
      "metadata": {},
      "outputs": [],
      "source": [
        "store_splits(train_data_2, validation_data_2, test_data_2, output_path=r'Data/Splited_Data_Seed_476/')"
      ]
    },
    {
      "cell_type": "markdown",
      "metadata": {},
      "source": [
        "Adding all the 3 splitted csv files to dvc"
      ]
    },
    {
      "cell_type": "code",
      "execution_count": 52,
      "metadata": {},
      "outputs": [
        {
          "name": "stderr",
          "output_type": "stream",
          "text": [
            "⠋ Checking graph\n",
            "\n",
            "⠋ Checking graph\n",
            "\n",
            "⠋ Checking graph\n",
            "\n"
          ]
        }
      ],
      "source": [
        "!dvc add Data/Splited_Data_Seed_476/train.csv\n",
        "!dvc add Data/Splited_Data_Seed_476/validation.csv\n",
        "!dvc add Data/Splited_Data_Seed_476/test.csv"
      ]
    },
    {
      "cell_type": "code",
      "execution_count": 53,
      "metadata": {},
      "outputs": [],
      "source": [
        "!dvc config core.autostage true"
      ]
    },
    {
      "cell_type": "markdown",
      "metadata": {},
      "source": [
        "Pushing dvc tracked files to remote storage"
      ]
    },
    {
      "cell_type": "code",
      "execution_count": null,
      "metadata": {},
      "outputs": [
        {
          "name": "stdout",
          "output_type": "stream",
          "text": [
            "3 files pushed\n"
          ]
        }
      ],
      "source": [
        "!dvc push"
      ]
    },
    {
      "cell_type": "code",
      "execution_count": null,
      "metadata": {},
      "outputs": [
        {
          "name": "stdout",
          "output_type": "stream",
          "text": [
            "Data and pipelines are up to date.\n"
          ]
        }
      ],
      "source": [
        "!dvc status"
      ]
    },
    {
      "cell_type": "markdown",
      "metadata": {},
      "source": [
        "Checkout for 1st version"
      ]
    },
    {
      "cell_type": "code",
      "execution_count": 56,
      "metadata": {},
      "outputs": [],
      "source": [
        "!dvc checkout Data/Splited_Data_Seed_476/train.csv.dvc\n",
        "!dvc checkout Data/Splited_Data_Seed_476/test.csv.dvc\n",
        "!dvc checkout Data/Splited_Data_Seed_476/validation.csv.dvc"
      ]
    },
    {
      "cell_type": "markdown",
      "metadata": {},
      "source": [
        "### The distribution of Target Variable in the splitted data\n",
        "For 2nd Split (Random Seed: 476)"
      ]
    },
    {
      "cell_type": "code",
      "execution_count": 57,
      "metadata": {},
      "outputs": [
        {
          "name": "stdout",
          "output_type": "stream",
          "text": [
            "First Split (Random Seed: 476)\n",
            "\n",
            "Training dataset:\n",
            "0    3503\n",
            "1    1079\n",
            "Name: spam, dtype: int64\n",
            "\n",
            "Validation dataset:\n",
            "0    635\n",
            "1    224\n",
            "Name: spam, dtype: int64\n",
            "\n",
            "Testing dataset:\n",
            "0    222\n",
            "1     65\n",
            "Name: spam, dtype: int64\n"
          ]
        }
      ],
      "source": [
        "train_path = r'Data/Splited_Data_Seed_476/train.csv'\n",
        "val_path = r'Data/Splited_Data_Seed_476/validation.csv'\n",
        "test_path = r'Data/Splited_Data_Seed_476/test.csv'\n",
        "\n",
        "print(\"First Split (Random Seed: 476)\")\n",
        "print(\"\\nTraining dataset:\")\n",
        "label_dist(train_path)\n",
        "print(\"\\nValidation dataset:\")\n",
        "label_dist(val_path)\n",
        "print(\"\\nTesting dataset:\")\n",
        "label_dist(test_path)"
      ]
    },
    {
      "cell_type": "code",
      "execution_count": null,
      "metadata": {},
      "outputs": [],
      "source": []
    }
  ],
  "metadata": {
    "colab": {
      "provenance": []
    },
    "kernelspec": {
      "display_name": "Python 3",
      "name": "python3"
    },
    "language_info": {
      "codemirror_mode": {
        "name": "ipython",
        "version": 3
      },
      "file_extension": ".py",
      "mimetype": "text/x-python",
      "name": "python",
      "nbconvert_exporter": "python",
      "pygments_lexer": "ipython3",
      "version": "3.10.2"
    }
  },
  "nbformat": 4,
  "nbformat_minor": 0
}
