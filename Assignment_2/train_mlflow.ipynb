{
 "cells": [
  {
   "cell_type": "code",
   "execution_count": null,
   "metadata": {},
   "outputs": [],
   "source": []
  },
  {
   "cell_type": "code",
   "execution_count": 1,
   "metadata": {},
   "outputs": [],
   "source": [
    "#Importing the required functions\n",
    "import matplotlib.pyplot as plt\n",
    "import csv\n",
    "import pandas as pd\n",
    "import sklearn\n",
    "import regex as re\n",
    "import numpy as np\n",
    "from zipfile import ZipFile\n",
    "from sklearn.feature_extraction.text import CountVectorizer, TfidfTransformer\n",
    "from sklearn.preprocessing import MultiLabelBinarizer\n",
    "import nltk\n",
    "from nltk.stem import WordNetLemmatizer\n",
    "from nltk.corpus import wordnet \n",
    "import string\n",
    "from sklearn.model_selection import train_test_split\n",
    "from nltk.corpus import stopwords\n",
    "stop_words=set(stopwords.words('english'))"
   ]
  },
  {
   "cell_type": "markdown",
   "metadata": {},
   "source": [
    "## Apply DVC"
   ]
  },
  {
   "cell_type": "code",
   "execution_count": 36,
   "metadata": {},
   "outputs": [],
   "source": [
    "import dvc"
   ]
  },
  {
   "cell_type": "code",
   "execution_count": 39,
   "metadata": {},
   "outputs": [
    {
     "name": "stdout",
     "output_type": "stream",
     "text": [
      "Initialized DVC repository.\n",
      "\n",
      "You can now commit the changes to git.\n",
      "\n",
      "+---------------------------------------------------------------------+\n",
      "|                                                                     |\n",
      "|        DVC has enabled anonymous aggregate usage analytics.         |\n",
      "|     Read the analytics documentation (and how to opt-out) here:     |\n",
      "|             <https://dvc.org/doc/user-guide/analytics>              |\n",
      "|                                                                     |\n",
      "+---------------------------------------------------------------------+\n",
      "\n",
      "What's next?\n",
      "------------\n",
      "- Check out the documentation: <https://dvc.org/doc>\n"
     ]
    },
    {
     "name": "stdout",
     "output_type": "stream",
     "text": [
      "- Get help and share ideas: <https://dvc.org/chat>\n",
      "- Star us on GitHub: <https://github.com/iterative/dvc>\n"
     ]
    }
   ],
   "source": [
    "!dvc init"
   ]
  },
  {
   "cell_type": "code",
   "execution_count": 40,
   "metadata": {},
   "outputs": [
    {
     "name": "stdout",
     "output_type": "stream",
     "text": [
      "There are no data or pipelines tracked in this project yet.\n",
      "See <https://dvc.org/doc/start> to get started!\n"
     ]
    }
   ],
   "source": [
    "!dvc status"
   ]
  },
  {
   "cell_type": "code",
   "execution_count": 42,
   "metadata": {},
   "outputs": [],
   "source": [
    "!git add test.csv"
   ]
  },
  {
   "cell_type": "code",
   "execution_count": 43,
   "metadata": {},
   "outputs": [
    {
     "name": "stderr",
     "output_type": "stream",
     "text": [
      "Everything up-to-date\n"
     ]
    }
   ],
   "source": [
    "!git push"
   ]
  },
  {
   "cell_type": "code",
   "execution_count": 44,
   "metadata": {},
   "outputs": [],
   "source": [
    "!git add .dvcignore test.csv .dvc"
   ]
  },
  {
   "cell_type": "code",
   "execution_count": 45,
   "metadata": {},
   "outputs": [
    {
     "name": "stdout",
     "output_type": "stream",
     "text": [
      "On branch main\n",
      "Your branch is up to date with 'origin/main'.\n",
      "\n",
      "Changes not staged for commit:\n",
      "  (use \"git add/rm <file>...\" to update what will be committed)\n",
      "  (use \"git restore <file>...\" to discard changes in working directory)\n",
      "\tdeleted:    train.csv\n",
      "\n",
      "Untracked files:\n",
      "  (use \"git add <file>...\" to include in what will be committed)\n",
      "\tprep_dvc.ipynb\n",
      "\tprepare_SB.ipynb\n",
      "\n",
      "no changes added to commit (use \"git add\" and/or \"git commit -a\")\n"
     ]
    }
   ],
   "source": [
    "!git commit -m \"tracking data\""
   ]
  },
  {
   "cell_type": "code",
   "execution_count": 46,
   "metadata": {},
   "outputs": [
    {
     "name": "stderr",
     "output_type": "stream",
     "text": [
      "Everything up-to-date\n"
     ]
    }
   ],
   "source": [
    "!git push"
   ]
  },
  {
   "cell_type": "code",
   "execution_count": 16,
   "metadata": {},
   "outputs": [
    {
     "name": "stdout",
     "output_type": "stream",
     "text": [
      "Everything is up to date.\n"
     ]
    }
   ],
   "source": [
    "!dvc push"
   ]
  },
  {
   "cell_type": "code",
   "execution_count": 15,
   "metadata": {},
   "outputs": [
    {
     "name": "stdout",
     "output_type": "stream",
     "text": [
      "Setting 'myremote' as a default remote.\n"
     ]
    }
   ],
   "source": [
    "!dvc remote add --default myremote test.csv"
   ]
  },
  {
   "cell_type": "code",
   "execution_count": 19,
   "metadata": {},
   "outputs": [
    {
     "name": "stderr",
     "output_type": "stream",
     "text": [
      "Updated 0 paths from the index\n"
     ]
    }
   ],
   "source": [
    "!git checkout test.csv"
   ]
  },
  {
   "cell_type": "code",
   "execution_count": 20,
   "metadata": {},
   "outputs": [],
   "source": [
    "!dvc checkout"
   ]
  },
  {
   "cell_type": "code",
   "execution_count": 21,
   "metadata": {},
   "outputs": [
    {
     "name": "stdout",
     "output_type": "stream",
     "text": [
      "commit 4328bb467eef37b7644efcc24e123e6cd64a9a87\n",
      "Author: akashdas2110 <iamakash476@gmail.com>\n",
      "Date:   Sat Feb 17 23:53:57 2024 +0530\n",
      "\n",
      "    stop tracking validation.csv\n",
      "\n",
      "commit 698a4fdc086ab6e15135efc36625083d321f3b23\n",
      "Author: akashdas2110 <iamakash476@gmail.com>\n",
      "Date:   Sat Feb 17 14:54:02 2024 +0530\n",
      "\n",
      "    Assignment 2 Updates\n",
      "\n",
      "commit bed73835f10b538ea57c1cffcd002be4637d4afc\n",
      "Author: akashdas2110 <iamakash476@gmail.com>\n",
      "Date:   Sat Feb 17 14:46:24 2024 +0530\n",
      "\n",
      "    Assignment 2 Updates\n",
      "\n",
      "commit a9c739d3e4422cd78c2a7f23416f3745d299304e\n",
      "Author: akashdas2110 <iamakash476@gmail.com>\n",
      "Date:   Sat Feb 17 14:43:46 2024 +0530\n",
      "\n",
      "    Update\n",
      "\n",
      "commit e990de5bf6a61e96b1e9caaf5911d8377b7aa95f\n",
      "Merge: fbac1f5 0b7478d"
     ]
    },
    {
     "name": "stdout",
     "output_type": "stream",
     "text": [
      "\n",
      "Author: akashdas2110 <112683602+akashdas2110@users.noreply.github.com>\n",
      "Date:   Sat Feb 17 14:35:20 2024 +0530\n",
      "\n",
      "    Merge pull request #1 from akashdas2110/akashdas2110-patch-1\n",
      "    \n",
      "    ass_2\n",
      "\n",
      "commit 0b7478d8c6b4ca9b1908e115c496c86515128648\n",
      "Author: akashdas2110 <112683602+akashdas2110@users.noreply.github.com>\n",
      "Date:   Sat Feb 17 14:34:46 2024 +0530\n",
      "\n",
      "    ass_2\n",
      "\n",
      "commit fbac1f5a0a02afe132bed3cbc293ec2bde2d40f9\n",
      "Author: akashdas2110 <112683602+akashdas2110@users.noreply.github.com>\n",
      "Date:   Sat Feb 17 14:34:11 2024 +0530\n",
      "\n",
      "    ass 2\n",
      "\n",
      "commit 3c3d0854553070af86bce525d8f7c72b635a720f\n",
      "Author: akashdas2110 <112683602+akashdas2110@users.noreply.github.com>\n",
      "Date:   Sat Feb 17 14:33:03 2024 +0530\n",
      "\n",
      "    Assignment 2 uploads\n",
      "\n",
      "commit aa79ff3d462e7ba4f98ba70c33e67206af1e74e0\n",
      "Author: akashdas2110 <iamakash476@gmail.com>\n",
      "Date:   Sat Feb 17 12:20:22 2024 +0530\n",
      "\n",
      "    check\n",
      "\n",
      "commit 730768a3c8846f980639baee06b10d827d04d666\n",
      "Author: akashdas2110 <112683602+akashdas2110@users.noreply.github.com>\n",
      "Date:   Tue Feb 13 16:11:01 2024 +0530\n",
      "\n",
      "    Add files via upload\n"
     ]
    }
   ],
   "source": [
    "!git log"
   ]
  },
  {
   "cell_type": "code",
   "execution_count": null,
   "metadata": {},
   "outputs": [],
   "source": []
  },
  {
   "cell_type": "code",
   "execution_count": null,
   "metadata": {},
   "outputs": [],
   "source": []
  },
  {
   "cell_type": "code",
   "execution_count": null,
   "metadata": {},
   "outputs": [],
   "source": []
  },
  {
   "cell_type": "code",
   "execution_count": null,
   "metadata": {},
   "outputs": [],
   "source": []
  },
  {
   "cell_type": "code",
   "execution_count": 23,
   "metadata": {},
   "outputs": [
    {
     "name": "stderr",
     "output_type": "stream",
     "text": [
      "⠋ Checking graph\n",
      "\n",
      "ERROR:  output 'validation.csv' is already tracked by SCM (e.g. Git).\n",
      "    You can remove it from Git, then add to DVC.\n",
      "        To stop tracking from Git:\n",
      "            git rm -r --cached 'validation.csv'\n",
      "            git commit -m \"stop tracking validation.csv\" \n",
      "⠋ Checking graph\n",
      "\n",
      "ERROR:  output 'test.csv' is already tracked by SCM (e.g. Git).\n",
      "    You can remove it from Git, then add to DVC.\n",
      "        To stop tracking from Git:\n",
      "            git rm -r --cached 'test.csv'\n",
      "            git commit -m \"stop tracking test.csv\" \n"
     ]
    }
   ],
   "source": [
    "\n",
    "# !dvc add train.csv\n",
    "!dvc add validation.csv\n",
    "!dvc add test.csv"
   ]
  },
  {
   "cell_type": "code",
   "execution_count": 24,
   "metadata": {},
   "outputs": [],
   "source": [
    "!dvc config core.autostage true"
   ]
  },
  {
   "cell_type": "markdown",
   "metadata": {},
   "source": [
    "Adding google drive folder as a remote data storage"
   ]
  },
  {
   "cell_type": "code",
   "execution_count": 26,
   "metadata": {},
   "outputs": [
    {
     "name": "stdout",
     "output_type": "stream",
     "text": [
      "Setting 'myremote_2' as a default remote.\n"
     ]
    }
   ],
   "source": [
    "!dvc remote add --default myremote_2 test.csv"
   ]
  },
  {
   "cell_type": "markdown",
   "metadata": {},
   "source": [
    "Pushing dvc tracked files to remote storage"
   ]
  },
  {
   "cell_type": "code",
   "execution_count": 28,
   "metadata": {},
   "outputs": [
    {
     "name": "stdout",
     "output_type": "stream",
     "text": [
      "Everything is up to date.\n"
     ]
    }
   ],
   "source": [
    "!dvc push"
   ]
  },
  {
   "cell_type": "code",
   "execution_count": 29,
   "metadata": {},
   "outputs": [
    {
     "name": "stdout",
     "output_type": "stream",
     "text": [
      "There are no data or pipelines tracked in this project yet.\n",
      "See <https://dvc.org/doc/start> to get started!\n"
     ]
    }
   ],
   "source": [
    "!dvc status"
   ]
  },
  {
   "cell_type": "code",
   "execution_count": 30,
   "metadata": {},
   "outputs": [
    {
     "name": "stdout",
     "output_type": "stream",
     "text": [
      "Everything is up to date.\n"
     ]
    }
   ],
   "source": [
    "!dvc push"
   ]
  },
  {
   "cell_type": "markdown",
   "metadata": {},
   "source": [
    "Checkout for the different versions of the data splitting"
   ]
  },
  {
   "cell_type": "code",
   "execution_count": 31,
   "metadata": {},
   "outputs": [
    {
     "name": "stdout",
     "output_type": "stream",
     "text": [
      "commit 4328bb467eef37b7644efcc24e123e6cd64a9a87\n",
      "Author: akashdas2110 <iamakash476@gmail.com>\n",
      "Date:   Sat Feb 17 23:53:57 2024 +0530\n",
      "\n",
      "    stop tracking validation.csv\n",
      "\n",
      "commit 698a4fdc086ab6e15135efc36625083d321f3b23\n",
      "Author: akashdas2110 <iamakash476@gmail.com>\n",
      "Date:   Sat Feb 17 14:54:02 2024 +0530\n",
      "\n",
      "    Assignment 2 Updates\n",
      "\n",
      "commit bed73835f10b538ea57c1cffcd002be4637d4afc\n",
      "Author: akashdas2110 <iamakash476@gmail.com>\n",
      "Date:   Sat Feb 17 14:46:24 2024 +0530\n",
      "\n",
      "    Assignment 2 Updates\n"
     ]
    },
    {
     "name": "stdout",
     "output_type": "stream",
     "text": [
      "\n",
      "commit a9c739d3e4422cd78c2a7f23416f3745d299304e\n",
      "Author: akashdas2110 <iamakash476@gmail.com>\n",
      "Date:   Sat Feb 17 14:43:46 2024 +0530\n",
      "\n",
      "    Update\n",
      "\n",
      "commit e990de5bf6a61e96b1e9caaf5911d8377b7aa95f\n",
      "Merge: fbac1f5 0b7478d\n",
      "Author: akashdas2110 <112683602+akashdas2110@users.noreply.github.com>\n",
      "Date:   Sat Feb 17 14:35:20 2024 +0530\n",
      "\n",
      "    Merge pull request #1 from akashdas2110/akashdas2110-patch-1\n",
      "    \n",
      "    ass_2\n",
      "\n",
      "commit 0b7478d8c6b4ca9b1908e115c496c86515128648\n",
      "Author: akashdas2110 <112683602+akashdas2110@users.noreply.github.com>\n",
      "Date:   Sat Feb 17 14:34:46 2024 +0530\n",
      "\n",
      "    ass_2\n",
      "\n",
      "commit fbac1f5a0a02afe132bed3cbc293ec2bde2d40f9\n",
      "Author: akashdas2110 <112683602+akashdas2110@users.noreply.github.com>\n",
      "Date:   Sat Feb 17 14:34:11 2024 +0530\n",
      "\n",
      "    ass 2\n",
      "\n",
      "commit 3c3d0854553070af86bce525d8f7c72b635a720f\n",
      "Author: akashdas2110 <112683602+akashdas2110@users.noreply.github.com>\n",
      "Date:   Sat Feb 17 14:33:03 2024 +0530\n",
      "\n",
      "    Assignment 2 uploads\n",
      "\n",
      "commit aa79ff3d462e7ba4f98ba70c33e67206af1e74e0\n",
      "Author: akashdas2110 <iamakash476@gmail.com>\n",
      "Date:   Sat Feb 17 12:20:22 2024 +0530\n",
      "\n",
      "    check\n",
      "\n",
      "commit 730768a3c8846f980639baee06b10d827d04d666\n",
      "Author: akashdas2110 <112683602+akashdas2110@users.noreply.github.com>\n",
      "Date:   Tue Feb 13 16:11:01 2024 +0530\n",
      "\n",
      "    Add files via upload\n"
     ]
    }
   ],
   "source": [
    "!git log"
   ]
  },
  {
   "cell_type": "markdown",
   "metadata": {},
   "source": [
    "Checkout for 1st version"
   ]
  },
  {
   "cell_type": "code",
   "execution_count": null,
   "metadata": {},
   "outputs": [
    {
     "name": "stderr",
     "output_type": "stream",
     "text": [
      "Note: switching to '250db97be7ad21504f968454f6cf9cd55cad6bd1'.\n",
      "\n",
      "You are in 'detached HEAD' state. You can look around, make experimental\n",
      "changes and commit them, and you can discard any commits you make in this\n",
      "state without impacting any branches by switching back to a branch.\n",
      "\n",
      "If you want to create a new branch to retain commits you create, you may\n",
      "do so (now or later) by using -c with the switch command. Example:\n",
      "\n",
      "  git switch -c <new-branch-name>\n",
      "\n",
      "Or undo this operation with:\n",
      "\n",
      "  git switch -\n",
      "\n",
      "Turn off this advice by setting config variable advice.detachedHead to false\n",
      "\n",
      "HEAD is now at 250db97 First Split Random Seed 42\n"
     ]
    }
   ],
   "source": [
    "!git checkout 250db97be7ad21504f968454f6cf9cd55cad6bd1"
   ]
  },
  {
   "cell_type": "code",
   "execution_count": 32,
   "metadata": {},
   "outputs": [],
   "source": [
    "!dvc checkout"
   ]
  },
  {
   "cell_type": "markdown",
   "metadata": {},
   "source": [
    "Function to get the distribution of sms labels in the splitted data"
   ]
  },
  {
   "cell_type": "code",
   "execution_count": null,
   "metadata": {},
   "outputs": [],
   "source": []
  },
  {
   "cell_type": "code",
   "execution_count": null,
   "metadata": {},
   "outputs": [],
   "source": []
  },
  {
   "cell_type": "code",
   "execution_count": null,
   "metadata": {},
   "outputs": [],
   "source": []
  },
  {
   "cell_type": "code",
   "execution_count": null,
   "metadata": {},
   "outputs": [],
   "source": []
  },
  {
   "cell_type": "code",
   "execution_count": 113,
   "metadata": {},
   "outputs": [
    {
     "name": "stdout",
     "output_type": "stream",
     "text": [
      "Initialized DVC repository.\n",
      "\n",
      "You can now commit the changes to git.\n",
      "\n",
      "+---------------------------------------------------------------------+\n",
      "|                                                                     |\n",
      "|        DVC has enabled anonymous aggregate usage analytics.         |\n",
      "|     Read the analytics documentation (and how to opt-out) here:     |\n",
      "|             <https://dvc.org/doc/user-guide/analytics>              |\n",
      "|                                                                     |\n",
      "+---------------------------------------------------------------------+\n",
      "\n",
      "What's next?\n",
      "------------\n"
     ]
    },
    {
     "name": "stdout",
     "output_type": "stream",
     "text": [
      "- Check out the documentation: <https://dvc.org/doc>\n",
      "- Get help and share ideas: <https://dvc.org/chat>\n",
      "- Star us on GitHub: <https://github.com/iterative/dvc>\n"
     ]
    }
   ],
   "source": [
    "!dvc init"
   ]
  },
  {
   "cell_type": "markdown",
   "metadata": {},
   "source": [
    "Adding all the 3 splitted csv files to dvc"
   ]
  },
  {
   "cell_type": "code",
   "execution_count": 114,
   "metadata": {},
   "outputs": [
    {
     "name": "stderr",
     "output_type": "stream",
     "text": [
      "fatal: pathspec 'train.csv' did not match any files\n"
     ]
    },
    {
     "name": "stdout",
     "output_type": "stream",
     "text": [
      "[main 7953ecb] stop tracking train.csv\n",
      " 3 files changed, 12 insertions(+)\n",
      " create mode 100644 test.csv.dvc\n",
      " create mode 100644 validation.csv.dvc\n"
     ]
    },
    {
     "name": "stderr",
     "output_type": "stream",
     "text": [
      "fatal: pathspec 'validation.csv' did not match any files\n"
     ]
    },
    {
     "name": "stdout",
     "output_type": "stream",
     "text": [
      "On branch main\n",
      "Your branch is ahead of 'origin/main' by 1 commit.\n",
      "  (use \"git push\" to publish your local commits)\n",
      "\n",
      "Changes not staged for commit:\n",
      "  (use \"git add/rm <file>...\" to update what will be committed)\n",
      "  (use \"git restore <file>...\" to discard changes in working directory)\n",
      "\tdeleted:    .gitignore\n",
      "\n",
      "Untracked files:\n",
      "  (use \"git add <file>...\" to include in what will be committed)\n",
      "\tmlruns/\n",
      "\tprep_dvc.ipynb\n",
      "\tprepare_SB.ipynb\n",
      "\ttest.csv\n",
      "\ttrain.csv\n",
      "\ttrain_mlflow.ipynb\n",
      "\tvalidation.csv\n",
      "\n",
      "no changes added to commit (use \"git add\" and/or \"git commit -a\")\n"
     ]
    },
    {
     "name": "stderr",
     "output_type": "stream",
     "text": [
      "fatal: pathspec 'test.csv' did not match any files\n"
     ]
    },
    {
     "name": "stdout",
     "output_type": "stream",
     "text": [
      "On branch main\n",
      "Your branch is ahead of 'origin/main' by 1 commit.\n",
      "  (use \"git push\" to publish your local commits)\n",
      "\n",
      "Changes not staged for commit:\n",
      "  (use \"git add/rm <file>...\" to update what will be committed)\n",
      "  (use \"git restore <file>...\" to discard changes in working directory)\n",
      "\tdeleted:    .gitignore\n",
      "\n",
      "Untracked files:\n",
      "  (use \"git add <file>...\" to include in what will be committed)\n",
      "\tmlruns/\n",
      "\tprep_dvc.ipynb\n",
      "\tprepare_SB.ipynb\n",
      "\ttest.csv\n",
      "\ttrain.csv\n",
      "\ttrain_mlflow.ipynb\n",
      "\tvalidation.csv\n",
      "\n",
      "no changes added to commit (use \"git add\" and/or \"git commit -a\")\n"
     ]
    },
    {
     "name": "stderr",
     "output_type": "stream",
     "text": [
      "⠋ Checking graph"
     ]
    },
    {
     "name": "stdout",
     "output_type": "stream",
     "text": [
      "\n"
     ]
    },
    {
     "name": "stderr",
     "output_type": "stream",
     "text": [
      "\n"
     ]
    },
    {
     "name": "stdout",
     "output_type": "stream",
     "text": [
      "To track the changes with git, run:"
     ]
    },
    {
     "name": "stderr",
     "output_type": "stream",
     "text": [
      "\n"
     ]
    },
    {
     "name": "stdout",
     "output_type": "stream",
     "text": [
      "\n",
      "\n",
      "\tgit add .gitignore train.csv.dvc\n",
      "\n",
      "To enable auto staging, run:\n",
      "\n",
      "\tdvc config core.autostage true\n"
     ]
    },
    {
     "name": "stderr",
     "output_type": "stream",
     "text": [
      "⠋ Checking graph"
     ]
    },
    {
     "name": "stdout",
     "output_type": "stream",
     "text": [
      "\n"
     ]
    },
    {
     "name": "stderr",
     "output_type": "stream",
     "text": [
      "\n"
     ]
    },
    {
     "name": "stdout",
     "output_type": "stream",
     "text": [
      "To track the changes with git, run:"
     ]
    },
    {
     "name": "stderr",
     "output_type": "stream",
     "text": [
      "\n"
     ]
    },
    {
     "name": "stdout",
     "output_type": "stream",
     "text": [
      "\n",
      "\n",
      "\tgit add validation.csv.dvc .gitignore\n",
      "\n",
      "To enable auto staging, run:\n",
      "\n",
      "\tdvc config core.autostage true\n"
     ]
    },
    {
     "name": "stderr",
     "output_type": "stream",
     "text": [
      "⠋ Checking graph"
     ]
    },
    {
     "name": "stdout",
     "output_type": "stream",
     "text": [
      "\n",
      "To track the changes with git, run:"
     ]
    },
    {
     "name": "stderr",
     "output_type": "stream",
     "text": [
      "\n",
      "\n"
     ]
    },
    {
     "name": "stdout",
     "output_type": "stream",
     "text": [
      "\n",
      "\n",
      "\tgit add .gitignore test.csv.dvc\n",
      "\n",
      "To enable auto staging, run:\n",
      "\n",
      "\tdvc config core.autostage true\n"
     ]
    }
   ],
   "source": [
    "!git rm -r --cached train.csv\n",
    "!git commit -m \"stop tracking train.csv\"\n",
    "!git rm -r --cached validation.csv\n",
    "!git commit -m \"stop tracking validation.csv\"\n",
    "!git rm -r --cached test.csv\n",
    "!git commit -m \"stop tracking test.csv\"\n",
    "\n",
    "!dvc add train.csv\n",
    "!dvc add validation.csv\n",
    "!dvc add test.csv"
   ]
  },
  {
   "cell_type": "code",
   "execution_count": 115,
   "metadata": {},
   "outputs": [],
   "source": [
    "!dvc config core.autostage true"
   ]
  },
  {
   "cell_type": "markdown",
   "metadata": {},
   "source": [
    "Adding google drive folder as a remote data storage"
   ]
  },
  {
   "cell_type": "code",
   "execution_count": 116,
   "metadata": {},
   "outputs": [
    {
     "name": "stdout",
     "output_type": "stream",
     "text": [
      "Setting 'myremote_4' as a default remote.\n"
     ]
    }
   ],
   "source": [
    "!dvc remote add --default myremote_4 gdrive://14FcFV3GhBnOIiSWJAKgCglVlrAtVXxqp"
   ]
  },
  {
   "cell_type": "code",
   "execution_count": 117,
   "metadata": {},
   "outputs": [],
   "source": [
    "!dvc remote modify myremote_4 gdrive_acknowledge_abuse true"
   ]
  },
  {
   "cell_type": "markdown",
   "metadata": {},
   "source": [
    "Pushing dvc tracked files to remote storage"
   ]
  },
  {
   "cell_type": "code",
   "execution_count": 118,
   "metadata": {},
   "outputs": [],
   "source": [
    "# pip install dvc_gdrive"
   ]
  },
  {
   "cell_type": "code",
   "execution_count": 119,
   "metadata": {},
   "outputs": [
    {
     "name": "stdout",
     "output_type": "stream",
     "text": [
      "Everything is up to date.\n"
     ]
    }
   ],
   "source": [
    "!dvc push"
   ]
  },
  {
   "cell_type": "code",
   "execution_count": 120,
   "metadata": {},
   "outputs": [
    {
     "name": "stdout",
     "output_type": "stream",
     "text": [
      "Data and pipelines are up to date.\n"
     ]
    }
   ],
   "source": [
    "!dvc status"
   ]
  },
  {
   "cell_type": "code",
   "execution_count": 121,
   "metadata": {},
   "outputs": [
    {
     "name": "stdout",
     "output_type": "stream",
     "text": [
      "Everything is up to date.\n"
     ]
    }
   ],
   "source": [
    "!dvc push"
   ]
  },
  {
   "cell_type": "markdown",
   "metadata": {},
   "source": [
    "Checkout for the different versions of the data splitting"
   ]
  },
  {
   "cell_type": "code",
   "execution_count": 122,
   "metadata": {},
   "outputs": [
    {
     "name": "stdout",
     "output_type": "stream",
     "text": [
      "commit 7953ecbdfc9277f957f0c62c95485562efadfb6c\n",
      "Author: akashdas2110 <iamakash476@gmail.com>\n",
      "Date:   Sun Feb 18 18:44:18 2024 +0530\n",
      "\n",
      "    stop tracking train.csv\n",
      "\n",
      "commit 10f8a696a6cd61f209b1e167a46129ac2e0ae1d1\n",
      "Author: akashdas2110 <iamakash476@gmail.com>\n",
      "Date:   Sun Feb 18 18:20:31 2024 +0530\n",
      "\n",
      "    stop tracking test.csv\n",
      "\n",
      "commit 9bcdb7c4f409b89876e164f66e8614a3f6d0f262\n",
      "Author: akashdas2110 <iamakash476@gmail.com>\n",
      "Date:   Sun Feb 18 18:20:31 2024 +0530\n"
     ]
    },
    {
     "name": "stdout",
     "output_type": "stream",
     "text": [
      "\n",
      "    stop tracking validation.csv\n",
      "\n",
      "commit 9528539ada14ae2a3dc538d23cac849b9eee24de\n",
      "Author: akashdas2110 <iamakash476@gmail.com>\n",
      "Date:   Sun Feb 18 18:20:30 2024 +0530\n",
      "\n",
      "    stop tracking train.csv\n",
      "\n",
      "commit 3305a71763c14a67ffda9f6c26eb4287ad9d671d\n",
      "Author: akashdas2110 <iamakash476@gmail.com>\n",
      "Date:   Sun Feb 18 18:14:47 2024 +0530\n",
      "\n",
      "    stop tracking train.csv\n",
      "\n",
      "commit 4328bb467eef37b7644efcc24e123e6cd64a9a87\n",
      "Author: akashdas2110 <iamakash476@gmail.com>\n",
      "Date:   Sat Feb 17 23:53:57 2024 +0530\n",
      "\n",
      "    stop tracking validation.csv\n",
      "\n",
      "commit 698a4fdc086ab6e15135efc36625083d321f3b23\n",
      "Author: akashdas2110 <iamakash476@gmail.com>\n",
      "Date:   Sat Feb 17 14:54:02 2024 +0530\n",
      "\n",
      "    Assignment 2 Updates\n",
      "\n",
      "commit bed73835f10b538ea57c1cffcd002be4637d4afc\n",
      "Author: akashdas2110 <iamakash476@gmail.com>\n",
      "Date:   Sat Feb 17 14:46:24 2024 +0530\n",
      "\n",
      "    Assignment 2 Updates\n",
      "\n",
      "commit a9c739d3e4422cd78c2a7f23416f3745d299304e\n",
      "Author: akashdas2110 <iamakash476@gmail.com>\n",
      "Date:   Sat Feb 17 14:43:46 2024 +0530\n",
      "\n",
      "    Update\n",
      "\n",
      "commit e990de5bf6a61e96b1e9caaf5911d8377b7aa95f\n",
      "Merge: fbac1f5 0b7478d\n",
      "Author: akashdas2110 <112683602+akashdas2110@users.noreply.github.com>\n",
      "Date:   Sat Feb 17 14:35:20 2024 +0530\n",
      "\n",
      "    Merge pull request #1 from akashdas2110/akashdas2110-patch-1\n",
      "    \n",
      "    ass_2\n",
      "\n",
      "commit 0b7478d8c6b4ca9b1908e115c496c86515128648\n",
      "Author: akashdas2110 <112683602+akashdas2110@users.noreply.github.com>\n",
      "Date:   Sat Feb 17 14:34:46 2024 +0530\n",
      "\n",
      "    ass_2\n",
      "\n",
      "commit fbac1f5a0a02afe132bed3cbc293ec2bde2d40f9\n",
      "Author: akashdas2110 <112683602+akashdas2110@users.noreply.github.com>\n",
      "Date:   Sat Feb 17 14:34:11 2024 +0530\n",
      "\n",
      "    ass 2\n",
      "\n",
      "commit 3c3d0854553070af86bce525d8f7c72b635a720f\n",
      "Author: akashdas2110 <112683602+akashdas2110@users.noreply.github.com>\n",
      "Date:   Sat Feb 17 14:33:03 2024 +0530\n",
      "\n",
      "    Assignment 2 uploads\n",
      "\n",
      "commit aa79ff3d462e7ba4f98ba70c33e67206af1e74e0\n",
      "Author: akashdas2110 <iamakash476@gmail.com>\n",
      "Date:   Sat Feb 17 12:20:22 2024 +0530\n",
      "\n",
      "    check\n",
      "\n",
      "commit 730768a3c8846f980639baee06b10d827d04d666\n",
      "Author: akashdas2110 <112683602+akashdas2110@users.noreply.github.com>\n",
      "Date:   Tue Feb 13 16:11:01 2024 +0530\n",
      "\n",
      "    Add files via upload\n"
     ]
    }
   ],
   "source": [
    "!git log"
   ]
  },
  {
   "cell_type": "markdown",
   "metadata": {},
   "source": [
    "Checkout for 1st version"
   ]
  },
  {
   "cell_type": "code",
   "execution_count": 123,
   "metadata": {},
   "outputs": [],
   "source": [
    "# !git checkout fbac1f5a0a02afe132bed3cbc293ec2bde2d40f9 "
   ]
  },
  {
   "cell_type": "code",
   "execution_count": 125,
   "metadata": {},
   "outputs": [],
   "source": [
    "!dvc checkout train.csv.dvc\n",
    "!dvc checkout test.csv.dvc\n",
    "!dvc checkout validation.csv.dvc"
   ]
  },
  {
   "cell_type": "code",
   "execution_count": 126,
   "metadata": {},
   "outputs": [
    {
     "name": "stderr",
     "output_type": "stream",
     "text": [
      "To https://github.com/akashdas2110/Trial.git\n",
      "   10f8a69..7953ecb  main -> main\n"
     ]
    }
   ],
   "source": [
    "!git push"
   ]
  },
  {
   "cell_type": "code",
   "execution_count": null,
   "metadata": {},
   "outputs": [],
   "source": []
  },
  {
   "cell_type": "code",
   "execution_count": null,
   "metadata": {},
   "outputs": [],
   "source": []
  },
  {
   "cell_type": "code",
   "execution_count": null,
   "metadata": {},
   "outputs": [],
   "source": []
  },
  {
   "cell_type": "code",
   "execution_count": null,
   "metadata": {},
   "outputs": [],
   "source": []
  },
  {
   "cell_type": "code",
   "execution_count": null,
   "metadata": {},
   "outputs": [],
   "source": []
  },
  {
   "cell_type": "code",
   "execution_count": null,
   "metadata": {},
   "outputs": [],
   "source": []
  },
  {
   "cell_type": "code",
   "execution_count": null,
   "metadata": {},
   "outputs": [],
   "source": []
  }
 ],
 "metadata": {
  "kernelspec": {
   "display_name": "Python 3",
   "language": "python",
   "name": "python3"
  },
  "language_info": {
   "codemirror_mode": {
    "name": "ipython",
    "version": 3
   },
   "file_extension": ".py",
   "mimetype": "text/x-python",
   "name": "python",
   "nbconvert_exporter": "python",
   "pygments_lexer": "ipython3",
   "version": "3.10.2"
  }
 },
 "nbformat": 4,
 "nbformat_minor": 2
}
