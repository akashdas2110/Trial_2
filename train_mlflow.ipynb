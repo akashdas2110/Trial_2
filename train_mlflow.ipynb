{
  "cells": [
    {
      "cell_type": "markdown",
      "metadata": {
        "id": "gxISlaaUUYuY"
      },
      "source": [
        "# Import Necessary Libraries"
      ]
    },
    {
      "cell_type": "code",
      "execution_count": 1,
      "metadata": {
        "colab": {
          "base_uri": "https://localhost:8080/"
        },
        "id": "yt9S2IDyKILy",
        "outputId": "29a91ff4-f65e-450b-b82c-344b8daab593"
      },
      "outputs": [
        {
          "name": "stdout",
          "output_type": "stream",
          "text": [
            "Collecting mlflow\n",
            "  Downloading mlflow-2.10.2-py3-none-any.whl (19.5 MB)\n",
            "Requirement already satisfied: pyyaml<7,>=5.1 in c:\\users\\user\\appdata\\local\\programs\\python\\python310\\lib\\site-packages (from mlflow) (6.0.1)\n",
            "Collecting cloudpickle<4\n",
            "  Downloading cloudpickle-3.0.0-py3-none-any.whl (20 kB)\n",
            "Requirement already satisfied: numpy<2 in c:\\users\\user\\appdata\\local\\programs\\python\\python310\\lib\\site-packages (from mlflow) (1.23.5)\n",
            "Requirement already satisfied: pandas<3 in c:\\users\\user\\appdata\\local\\programs\\python\\python310\\lib\\site-packages (from mlflow) (1.5.2)\n",
            "Collecting waitress<3\n",
            "  Downloading waitress-2.1.2-py3-none-any.whl (57 kB)\n",
            "Requirement already satisfied: matplotlib<4 in c:\\users\\user\\appdata\\local\\programs\\python\\python310\\lib\\site-packages (from mlflow) (3.8.3)\n",
            "Requirement already satisfied: click<9,>=7.0 in c:\\users\\user\\appdata\\local\\programs\\python\\python310\\lib\\site-packages (from mlflow) (8.1.3)\n",
            "Requirement already satisfied: requests<3,>=2.17.3 in c:\\users\\user\\appdata\\local\\programs\\python\\python310\\lib\\site-packages (from mlflow) (2.28.1)\n",
            "Collecting docker<8,>=4.0.0\n",
            "  Downloading docker-7.0.0-py3-none-any.whl (147 kB)\n",
            "Collecting markdown<4,>=3.3\n",
            "  Downloading Markdown-3.5.2-py3-none-any.whl (103 kB)\n",
            "Requirement already satisfied: gitpython<4,>=2.1.0 in c:\\users\\user\\appdata\\local\\programs\\python\\python310\\lib\\site-packages (from mlflow) (3.1.29)\n",
            "Requirement already satisfied: packaging<24 in c:\\users\\user\\appdata\\local\\programs\\python\\python310\\lib\\site-packages (from mlflow) (22.0)\n",
            "Requirement already satisfied: importlib-metadata!=4.7.0,<8,>=3.7.0 in c:\\users\\user\\appdata\\local\\programs\\python\\python310\\lib\\site-packages (from mlflow) (5.1.0)\n",
            "Collecting querystring-parser<2\n",
            "  Downloading querystring_parser-1.2.4-py2.py3-none-any.whl (7.9 kB)\n",
            "Requirement already satisfied: protobuf<5,>=3.12.0 in c:\\users\\user\\appdata\\local\\programs\\python\\python310\\lib\\site-packages (from mlflow) (3.20.3)\n",
            "Collecting sqlalchemy<3,>=1.4.0\n",
            "  Downloading SQLAlchemy-2.0.27-cp310-cp310-win_amd64.whl (2.1 MB)\n",
            "Collecting alembic!=1.10.0,<2\n",
            "  Downloading alembic-1.13.1-py3-none-any.whl (233 kB)\n",
            "Requirement already satisfied: Jinja2<4,>=3.0 in c:\\users\\user\\appdata\\local\\programs\\python\\python310\\lib\\site-packages (from mlflow) (3.1.2)\n",
            "Collecting Flask<4\n",
            "  Downloading flask-3.0.2-py3-none-any.whl (101 kB)\n",
            "Requirement already satisfied: entrypoints<1 in c:\\users\\user\\appdata\\local\\programs\\python\\python310\\lib\\site-packages (from mlflow) (0.4)\n",
            "Collecting sqlparse<1,>=0.4.0\n",
            "  Downloading sqlparse-0.4.4-py3-none-any.whl (41 kB)\n",
            "Requirement already satisfied: scipy<2 in c:\\users\\user\\appdata\\local\\programs\\python\\python310\\lib\\site-packages (from mlflow) (1.9.3)\n",
            "Requirement already satisfied: pyarrow<16,>=4.0.0 in c:\\users\\user\\appdata\\local\\programs\\python\\python310\\lib\\site-packages (from mlflow) (10.0.1)\n",
            "Requirement already satisfied: scikit-learn<2 in c:\\users\\user\\appdata\\local\\programs\\python\\python310\\lib\\site-packages (from mlflow) (1.2.0)\n",
            "Requirement already satisfied: pytz<2024 in c:\\users\\user\\appdata\\local\\programs\\python\\python310\\lib\\site-packages (from mlflow) (2022.6)\n",
            "Requirement already satisfied: typing-extensions>=4 in c:\\users\\user\\appdata\\local\\programs\\python\\python310\\lib\\site-packages (from alembic!=1.10.0,<2->mlflow) (4.9.0)\n",
            "Collecting Mako\n",
            "  Downloading Mako-1.3.2-py3-none-any.whl (78 kB)\n",
            "Requirement already satisfied: colorama in c:\\users\\user\\appdata\\local\\programs\\python\\python310\\lib\\site-packages (from click<9,>=7.0->mlflow) (0.4.6)\n",
            "Requirement already satisfied: pywin32>=304 in c:\\users\\user\\appdata\\roaming\\python\\python310\\site-packages (from docker<8,>=4.0.0->mlflow) (306)\n",
            "Requirement already satisfied: urllib3>=1.26.0 in c:\\users\\user\\appdata\\local\\programs\\python\\python310\\lib\\site-packages (from docker<8,>=4.0.0->mlflow) (1.26.13)\n",
            "Collecting blinker>=1.6.2\n",
            "  Downloading blinker-1.7.0-py3-none-any.whl (13 kB)\n",
            "Collecting Werkzeug>=3.0.0\n",
            "  Downloading werkzeug-3.0.1-py3-none-any.whl (226 kB)\n",
            "Collecting itsdangerous>=2.1.2\n",
            "  Downloading itsdangerous-2.1.2-py3-none-any.whl (15 kB)\n",
            "Requirement already satisfied: gitdb<5,>=4.0.1 in c:\\users\\user\\appdata\\local\\programs\\python\\python310\\lib\\site-packages (from gitpython<4,>=2.1.0->mlflow) (4.0.10)\n",
            "Requirement already satisfied: smmap<6,>=3.0.1 in c:\\users\\user\\appdata\\local\\programs\\python\\python310\\lib\\site-packages (from gitdb<5,>=4.0.1->gitpython<4,>=2.1.0->mlflow) (5.0.0)\n",
            "Requirement already satisfied: zipp>=0.5 in c:\\users\\user\\appdata\\local\\programs\\python\\python310\\lib\\site-packages (from importlib-metadata!=4.7.0,<8,>=3.7.0->mlflow) (3.11.0)\n",
            "Requirement already satisfied: MarkupSafe>=2.0 in c:\\users\\user\\appdata\\local\\programs\\python\\python310\\lib\\site-packages (from Jinja2<4,>=3.0->mlflow) (2.1.1)\n",
            "Requirement already satisfied: fonttools>=4.22.0 in c:\\users\\user\\appdata\\local\\programs\\python\\python310\\lib\\site-packages (from matplotlib<4->mlflow) (4.49.0)\n",
            "Requirement already satisfied: pillow>=8 in c:\\users\\user\\appdata\\local\\programs\\python\\python310\\lib\\site-packages (from matplotlib<4->mlflow) (9.3.0)\n",
            "Requirement already satisfied: python-dateutil>=2.7 in c:\\users\\user\\appdata\\local\\programs\\python\\python310\\lib\\site-packages (from matplotlib<4->mlflow) (2.8.2)\n",
            "Requirement already satisfied: kiwisolver>=1.3.1 in c:\\users\\user\\appdata\\local\\programs\\python\\python310\\lib\\site-packages (from matplotlib<4->mlflow) (1.4.5)\n",
            "Requirement already satisfied: pyparsing>=2.3.1 in c:\\users\\user\\appdata\\local\\programs\\python\\python310\\lib\\site-packages (from matplotlib<4->mlflow) (3.1.1)\n",
            "Requirement already satisfied: contourpy>=1.0.1 in c:\\users\\user\\appdata\\local\\programs\\python\\python310\\lib\\site-packages (from matplotlib<4->mlflow) (1.2.0)\n",
            "Requirement already satisfied: cycler>=0.10 in c:\\users\\user\\appdata\\local\\programs\\python\\python310\\lib\\site-packages (from matplotlib<4->mlflow) (0.12.1)\n",
            "Requirement already satisfied: six>=1.5 in c:\\users\\user\\appdata\\local\\programs\\python\\python310\\lib\\site-packages (from python-dateutil>=2.7->matplotlib<4->mlflow) (1.16.0)\n",
            "Requirement already satisfied: idna<4,>=2.5 in c:\\users\\user\\appdata\\local\\programs\\python\\python310\\lib\\site-packages (from requests<3,>=2.17.3->mlflow) (3.4)\n",
            "Requirement already satisfied: charset-normalizer<3,>=2 in c:\\users\\user\\appdata\\local\\programs\\python\\python310\\lib\\site-packages (from requests<3,>=2.17.3->mlflow) (2.1.1)\n",
            "Requirement already satisfied: certifi>=2017.4.17 in c:\\users\\user\\appdata\\local\\programs\\python\\python310\\lib\\site-packages (from requests<3,>=2.17.3->mlflow) (2022.12.7)\n",
            "Requirement already satisfied: joblib>=1.1.1 in c:\\users\\user\\appdata\\local\\programs\\python\\python310\\lib\\site-packages (from scikit-learn<2->mlflow) (1.2.0)\n",
            "Requirement already satisfied: threadpoolctl>=2.0.0 in c:\\users\\user\\appdata\\local\\programs\\python\\python310\\lib\\site-packages (from scikit-learn<2->mlflow) (3.1.0)\n",
            "Collecting greenlet!=0.4.17\n",
            "  Downloading greenlet-3.0.3-cp310-cp310-win_amd64.whl (292 kB)\n",
            "Installing collected packages: greenlet, Werkzeug, sqlalchemy, Mako, itsdangerous, blinker, waitress, sqlparse, querystring-parser, markdown, Flask, docker, cloudpickle, alembic, mlflow\n",
            "  Attempting uninstall: blinker\n",
            "    Found existing installation: blinker 1.5\n",
            "    Uninstalling blinker-1.5:\n",
            "      Successfully uninstalled blinker-1.5\n",
            "Successfully installed Flask-3.0.2 Mako-1.3.2 Werkzeug-3.0.1 alembic-1.13.1 blinker-1.7.0 cloudpickle-3.0.0 docker-7.0.0 greenlet-3.0.3 itsdangerous-2.1.2 markdown-3.5.2 mlflow-2.10.2 querystring-parser-1.2.4 sqlalchemy-2.0.27 sqlparse-0.4.4 waitress-2.1.2\n"
          ]
        },
        {
          "name": "stderr",
          "output_type": "stream",
          "text": [
            "WARNING: You are using pip version 21.2.4; however, version 24.0 is available.\n",
            "You should consider upgrading via the 'C:\\Users\\USER\\AppData\\Local\\Programs\\Python\\Python310\\python.exe -m pip install --upgrade pip' command.\n"
          ]
        }
      ],
      "source": [
        "!pip install mlflow"
      ]
    },
    {
      "cell_type": "code",
      "execution_count": 2,
      "metadata": {
        "id": "HR_0t1GJKQJg"
      },
      "outputs": [],
      "source": [
        "# Common imports\n",
        "import numpy as np\n",
        "import os\n",
        "from urllib.parse import urlparse\n",
        "\n",
        "# ML flow imports\n",
        "import mlflow\n",
        "import mlflow.sklearn\n",
        "\n",
        "import logging\n",
        "\n",
        "logging.basicConfig(level=logging.WARN)\n",
        "logger = logging.getLogger(__name__)"
      ]
    },
    {
      "cell_type": "code",
      "execution_count": 4,
      "metadata": {
        "id": "wiz_iY3prUq4"
      },
      "outputs": [
        {
          "name": "stderr",
          "output_type": "stream",
          "text": [
            "c:\\Users\\USER\\AppData\\Local\\Programs\\Python\\Python310\\lib\\site-packages\\tqdm\\auto.py:22: TqdmWarning: IProgress not found. Please update jupyter and ipywidgets. See https://ipywidgets.readthedocs.io/en/stable/user_install.html\n",
            "  from .autonotebook import tqdm as notebook_tqdm\n"
          ]
        }
      ],
      "source": [
        "import pandas as pd\n",
        "from sklearn.feature_extraction.text import TfidfVectorizer\n",
        "from sklearn.linear_model import LogisticRegression\n",
        "from sklearn.naive_bayes import MultinomialNB\n",
        "from sklearn.metrics import accuracy_score, classification_report, confusion_matrix\n",
        "from sklearn.pipeline import Pipeline\n",
        "# import lightgbm as lgb\n",
        "from tqdm.auto import tqdm\n",
        "# from xgboost import XGBClassifier\n",
        "from sklearn.model_selection import GridSearchCV\n",
        "from sklearn.ensemble import RandomForestClassifier\n",
        "import numpy as np\n",
        "from sklearn.preprocessing import StandardScaler\n",
        "from sklearn.svm import SVC\n",
        "import matplotlib.pyplot as plt"
      ]
    },
    {
      "cell_type": "markdown",
      "metadata": {
        "id": "dWp8BIJuK6WV"
      },
      "source": [
        "# Mount Google drive"
      ]
    },
    {
      "cell_type": "code",
      "execution_count": 6,
      "metadata": {
        "colab": {
          "base_uri": "https://localhost:8080/"
        },
        "id": "NzQR2mDbiLo8",
        "outputId": "65923d13-af29-4ffb-e65b-28eb5d04c5ea"
      },
      "outputs": [],
      "source": [
        "# from google.colab import drive\n",
        "# drive.mount('/content/drive')"
      ]
    },
    {
      "cell_type": "markdown",
      "metadata": {
        "id": "IWcj7cxGVoUq"
      },
      "source": [
        "# Define Necessary Functions"
      ]
    },
    {
      "cell_type": "code",
      "execution_count": 7,
      "metadata": {
        "id": "TrC8iok3rUq7"
      },
      "outputs": [],
      "source": [
        "# Function to load stored splitted data\n",
        "def load_split_data(file_path):\n",
        "    return pd.read_csv(file_path)\n",
        "\n",
        "# Function to fit models\n",
        "def fit_model(train_data, y_train, model_name='logistic_regression'):\n",
        "    if model_name == 'logistic_regression':\n",
        "        model = Pipeline([\n",
        "            ('tfidf', TfidfVectorizer(stop_words='english')),\n",
        "            ('clf', LogisticRegression(random_state=42))\n",
        "        ])\n",
        "    elif model_name == 'random_forest':\n",
        "        model = Pipeline([\n",
        "            ('tfidf', TfidfVectorizer(stop_words='english')),\n",
        "            ('clf', RandomForestClassifier(random_state=42))\n",
        "        ])\n",
        "    elif model_name == 'svm':\n",
        "        model = Pipeline([\n",
        "            ('tfidf', TfidfVectorizer(stop_words='english')),\n",
        "            ('clf', SVC())\n",
        "        ])\n",
        "    else:\n",
        "        raise ValueError(\"Model name not recognized. Choose 'logistic_regression', 'random_forest', or 'svm'\")\n",
        "\n",
        "    model.fit(train_data, y_train)\n",
        "    return model\n",
        "\n",
        "# Function to calculate scores of differet models\n",
        "def score_model(model, data, y_true):\n",
        "    y_pred = model.predict(data)\n",
        "    return accuracy_score(y_true, y_pred)\n",
        "\n",
        "# Function for model evaluation\n",
        "def evaluate_model(y_true, y_pred):\n",
        "    print(classification_report(y_true, y_pred))\n",
        "\n",
        "# Function for model validation\n",
        "def validate_model(model, train_data, y_train, validation_data, y_val):\n",
        "    print(\"Train score:\", score_model(model, train_data, y_train))\n",
        "    print(\"Validation score:\", score_model(model, validation_data, y_val))"
      ]
    },
    {
      "cell_type": "markdown",
      "metadata": {
        "id": "Vqb6t5I2u8Zf"
      },
      "source": [
        "# Model Selection from 3 benchmarked models"
      ]
    },
    {
      "cell_type": "code",
      "execution_count": 8,
      "metadata": {
        "id": "SxLi_o7irUq8"
      },
      "outputs": [],
      "source": [
        "model_names = ['logistic_regression', 'random_forest', 'svm']"
      ]
    },
    {
      "cell_type": "code",
      "execution_count": 11,
      "metadata": {
        "id": "KoDlfkFvrUq8"
      },
      "outputs": [],
      "source": [
        "# Load data\n",
        "train_data = load_split_data(r'train.csv')\n",
        "validation_data = load_split_data(r'validation.csv')\n",
        "test_data = load_split_data(r'test.csv')\n"
      ]
    },
    {
      "cell_type": "code",
      "execution_count": 12,
      "metadata": {
        "id": "A_OecIj8rUq8"
      },
      "outputs": [],
      "source": [
        "X_train = train_data['text']\n",
        "y_train = train_data['spam']\n",
        "X_val = validation_data['text']\n",
        "y_val = validation_data['spam']\n",
        "X_test = test_data['text']\n",
        "y_test = test_data['spam']"
      ]
    },
    {
      "cell_type": "markdown",
      "metadata": {
        "id": "msaDMcZkrUq8"
      },
      "source": [
        "## Training and evaluation"
      ]
    },
    {
      "cell_type": "code",
      "execution_count": 13,
      "metadata": {
        "colab": {
          "base_uri": "https://localhost:8080/",
          "height": 1000,
          "referenced_widgets": [
            "623fed58596741e69d80b436c8b67b55",
            "ff9a07611ef44090a134fa5a7509bf7e",
            "719f9935b5b54541a86f226ed277cb7a",
            "749cf38fadea4ed6b901a62c11df28d6",
            "0c755fd26bab42d4882eaa6880495f03",
            "16bed75bf3274f0b83e3424db52d525d",
            "d7efa6d788a1423588a739667044a209",
            "3972dfcb0b65418e8b87561b1a2af122",
            "c3b5f1fb02334f91a7e61919866c0ec2",
            "ba4538bdcbe943619eccc3fa5da50c0b",
            "406d696e36be471a90ed12082077eba1"
          ]
        },
        "id": "9z2-_5_8rUq9",
        "outputId": "f074a476-9200-463c-9045-afa2a116d582"
      },
      "outputs": [
        {
          "name": "stderr",
          "output_type": "stream",
          "text": [
            "Training Models:   0%|          | 0/3 [00:00<?, ?it/s]"
          ]
        },
        {
          "name": "stdout",
          "output_type": "stream",
          "text": [
            "\n",
            "Training with logistic_regression:\n",
            "Train score: 0.9949803579223047\n",
            "Validation score: 0.9825378346915018\n",
            "For training.\n",
            "\n",
            "              precision    recall  f1-score   support\n",
            "\n",
            "           0       0.99      1.00      1.00      3504\n",
            "           1       1.00      0.98      0.99      1078\n",
            "\n",
            "    accuracy                           0.99      4582\n",
            "   macro avg       1.00      0.99      0.99      4582\n",
            "weighted avg       0.99      0.99      0.99      4582\n",
            "\n"
          ]
        },
        {
          "data": {
            "image/png": "[encoded data removed]",
            "text/plain": [
              "<Figure size 480x480 with 2 Axes>"
            ]
          },
          "metadata": {},
          "output_type": "display_data"
        },
        {
          "name": "stdout",
          "output_type": "stream",
          "text": [
            "For validation.\n",
            "\n",
            "              precision    recall  f1-score   support\n",
            "\n",
            "           0       0.98      1.00      0.99       645\n",
            "           1       1.00      0.93      0.96       214\n",
            "\n",
            "    accuracy                           0.98       859\n",
            "   macro avg       0.99      0.97      0.98       859\n",
            "weighted avg       0.98      0.98      0.98       859\n",
            "\n"
          ]
        },
        {
          "data": {
            "image/png": "[encoded data removed]",
            "text/plain": [
              "<Figure size 480x480 with 2 Axes>"
            ]
          },
          "metadata": {},
          "output_type": "display_data"
        },
        {
          "name": "stderr",
          "output_type": "stream",
          "text": [
            "Training Models:  33%|███▎      | 1/3 [00:05<00:10,  5.45s/it]"
          ]
        },
        {
          "name": "stdout",
          "output_type": "stream",
          "text": [
            "\n",
            "Training with random_forest:\n",
            "Train score: 1.0\n",
            "Validation score: 0.9790454016298021\n",
            "For training.\n",
            "\n",
            "              precision    recall  f1-score   support\n",
            "\n",
            "           0       1.00      1.00      1.00      3504\n",
            "           1       1.00      1.00      1.00      1078\n",
            "\n",
            "    accuracy                           1.00      4582\n",
            "   macro avg       1.00      1.00      1.00      4582\n",
            "weighted avg       1.00      1.00      1.00      4582\n",
            "\n"
          ]
        },
        {
          "data": {
            "image/png": "[encoded data removed]",
            "text/plain": [
              "<Figure size 480x480 with 2 Axes>"
            ]
          },
          "metadata": {},
          "output_type": "display_data"
        },
        {
          "name": "stdout",
          "output_type": "stream",
          "text": [
            "For validation.\n",
            "\n",
            "              precision    recall  f1-score   support\n",
            "\n",
            "           0       0.97      1.00      0.99       645\n",
            "           1       1.00      0.92      0.96       214\n",
            "\n",
            "    accuracy                           0.98       859\n",
            "   macro avg       0.99      0.96      0.97       859\n",
            "weighted avg       0.98      0.98      0.98       859\n",
            "\n"
          ]
        },
        {
          "data": {
            "image/png": "[encoded data removed]",
            "text/plain": [
              "<Figure size 480x480 with 2 Axes>"
            ]
          },
          "metadata": {},
          "output_type": "display_data"
        },
        {
          "name": "stderr",
          "output_type": "stream",
          "text": [
            "Training Models:  67%|██████▋   | 2/3 [00:17<00:09,  9.47s/it]"
          ]
        },
        {
          "name": "stdout",
          "output_type": "stream",
          "text": [
            "\n",
            "Training with svm:\n",
            "Train score: 1.0\n",
            "Validation score: 0.9871944121071012\n",
            "For training.\n",
            "\n",
            "              precision    recall  f1-score   support\n",
            "\n",
            "           0       1.00      1.00      1.00      3504\n",
            "           1       1.00      1.00      1.00      1078\n",
            "\n",
            "    accuracy                           1.00      4582\n",
            "   macro avg       1.00      1.00      1.00      4582\n",
            "weighted avg       1.00      1.00      1.00      4582\n",
            "\n"
          ]
        },
        {
          "data": {
            "image/png": "[encoded data removed]",
            "text/plain": [
              "<Figure size 480x480 with 2 Axes>"
            ]
          },
          "metadata": {},
          "output_type": "display_data"
        },
        {
          "name": "stdout",
          "output_type": "stream",
          "text": [
            "For validation.\n",
            "\n",
            "              precision    recall  f1-score   support\n",
            "\n",
            "           0       0.98      1.00      0.99       645\n",
            "           1       1.00      0.95      0.97       214\n",
            "\n",
            "    accuracy                           0.99       859\n",
            "   macro avg       0.99      0.98      0.98       859\n",
            "weighted avg       0.99      0.99      0.99       859\n",
            "\n"
          ]
        },
        {
          "data": {
            "image/png": "[encoded data removed]",
            "text/plain": [
              "<Figure size 480x480 with 2 Axes>"
            ]
          },
          "metadata": {},
          "output_type": "display_data"
        },
        {
          "name": "stderr",
          "output_type": "stream",
          "text": [
            "Training Models: 100%|██████████| 3/3 [00:45<00:00, 15.04s/it]\n"
          ]
        }
      ],
      "source": [
        "# Training and evaluation\n",
        "for model_name in tqdm(model_names, desc=\"Training Models\"):\n",
        "    print(f\"\\nTraining with {model_name}:\")\n",
        "    model = fit_model(X_train, y_train, model_name)\n",
        "\n",
        "    # Score on train and validation\n",
        "    validate_model(model, X_train, y_train, X_val, y_val)\n",
        "\n",
        "    # Evaluate on train and validation\n",
        "    y_pred_train = model.predict(X_train)\n",
        "    y_pred_val = model.predict(X_val)\n",
        "    print(\"For training.\\n\")\n",
        "    evaluate_model(y_train, y_pred_train)\n",
        "    plt.matshow(confusion_matrix(y_train, y_pred_train),\n",
        "            cmap=plt.cm.binary,\n",
        "            interpolation='nearest')\n",
        "    plt.title('Confusion Matrix Training Data')\n",
        "    plt.colorbar()\n",
        "    plt.ylabel('Expected Label')\n",
        "    plt.xlabel('Predicted Label')\n",
        "    plt.show()\n",
        "    print(\"For validation.\\n\")\n",
        "    evaluate_model(y_val, y_pred_val)\n",
        "    plt.matshow(confusion_matrix(y_val, y_pred_val),\n",
        "            cmap=plt.cm.binary,\n",
        "            interpolation='nearest')\n",
        "    plt.title('Confusion Matrix Validation Data')\n",
        "    plt.colorbar()\n",
        "    plt.ylabel('Expected Label')\n",
        "    plt.xlabel('Predicted Label')\n",
        "    plt.show()"
      ]
    },
    {
      "cell_type": "code",
      "execution_count": 14,
      "metadata": {
        "id": "dJad0pU_OjKY"
      },
      "outputs": [],
      "source": [
        "from sklearn.metrics._plot.precision_recall_curve import precision_recall_curve\n",
        "from sklearn.metrics import auc\n",
        "def eval_metrics(actual, pred):\n",
        "    prec, recall,_ = precision_recall_curve(actual, pred)\n",
        "    aucpr = auc(recall, prec)\n",
        "    return aucpr"
      ]
    },
    {
      "cell_type": "code",
      "execution_count": 15,
      "metadata": {
        "colab": {
          "base_uri": "https://localhost:8080/"
        },
        "id": "nTRAtIobKnwy",
        "outputId": "16d6970b-dddf-4dc2-d074-87c3f31dc84d"
      },
      "outputs": [
        {
          "name": "stdout",
          "output_type": "stream",
          "text": [
            "Random Forest Classifier model (Area under Precision_Recall Curve=0.968421):\n"
          ]
        }
      ],
      "source": [
        "with mlflow.start_run():\n",
        "    # Model = RandomForestClassifier(n_estimators = 100, random_state = 42, class_weight = {0:13,1:87})\n",
        "    # Model.fit(X_train,y_train)\n",
        "    Model=fit_model(X_train, y_train, \"random_forest\")\n",
        "\n",
        "    predicted_qualities = Model.predict(X_val)\n",
        "\n",
        "    aucpr = eval_metrics(y_val, predicted_qualities)\n",
        "\n",
        "    print(\"Random Forest Classifier model (Area under Precision_Recall Curve={:f}):\".format(aucpr))\n",
        "\n",
        "    mlflow.log_param(\"Area under Precision Recall Curve\", aucpr)\n",
        "\n",
        "\n",
        "    tracking_url_type_store = urlparse(mlflow.get_tracking_uri()).scheme\n",
        "\n",
        "    # Model regi\n",
        "    if tracking_url_type_store != \"file\":\n",
        "        mlflow.sklearn.log_model(Model, \"model\", registered_model_name=\"Random Forest Classifier\")\n",
        "    else:\n",
        "        mlflow.sklearn.log_model(Model, \"model\")"
      ]
    },
    {
      "cell_type": "code",
      "execution_count": 16,
      "metadata": {
        "colab": {
          "base_uri": "https://localhost:8080/"
        },
        "id": "QIfA9latQ4Yd",
        "outputId": "a0719eee-91a5-4ab9-d88e-d59d990e1afa"
      },
      "outputs": [
        {
          "name": "stdout",
          "output_type": "stream",
          "text": [
            "logistic_regression Classifier model (Area under Precision_Recall Curve=0.972951):\n"
          ]
        }
      ],
      "source": [
        "with mlflow.start_run():\n",
        "    # Model = RandomForestClassifier(n_estimators = 100, random_state = 42, class_weight = {0:13,1:87})\n",
        "    # Model.fit(X_train,y_train)\n",
        "    Model=fit_model(X_train, y_train, \"logistic_regression\")\n",
        "\n",
        "    predicted_qualities = Model.predict(X_val)\n",
        "\n",
        "    aucpr = eval_metrics(y_val, predicted_qualities)\n",
        "\n",
        "    print(\"logistic_regression Classifier model (Area under Precision_Recall Curve={:f}):\".format(aucpr))\n",
        "\n",
        "    mlflow.log_param(\"Area under Precision Recall Curve\", aucpr)\n",
        "\n",
        "\n",
        "    tracking_url_type_store = urlparse(mlflow.get_tracking_uri()).scheme\n",
        "\n",
        "    # Model regi\n",
        "    if tracking_url_type_store != \"file\":\n",
        "        mlflow.sklearn.log_model(Model, \"model\", registered_model_name=\"logistic_regression\")\n",
        "    else:\n",
        "        mlflow.sklearn.log_model(Model, \"model\")"
      ]
    },
    {
      "cell_type": "code",
      "execution_count": 17,
      "metadata": {
        "colab": {
          "base_uri": "https://localhost:8080/"
        },
        "id": "b2FnniPiQ4_V",
        "outputId": "dbdfaccf-be68-4464-959e-777f3fb61b6b"
      },
      "outputs": [
        {
          "name": "stdout",
          "output_type": "stream",
          "text": [
            "Random Forest Classifier model (Area under Precision_Recall Curve=0.980017):\n"
          ]
        }
      ],
      "source": [
        "with mlflow.start_run():\n",
        "    # Model = RandomForestClassifier(n_estimators = 100, random_state = 42, class_weight = {0:13,1:87})\n",
        "    # Model.fit(X_train,y_train)\n",
        "    Model=fit_model(X_train, y_train, \"svm\")\n",
        "\n",
        "    predicted_qualities = Model.predict(X_val)\n",
        "\n",
        "    aucpr = eval_metrics(y_val, predicted_qualities)\n",
        "\n",
        "    print(\"Random Forest Classifier model (Area under Precision_Recall Curve={:f}):\".format(aucpr))\n",
        "\n",
        "    mlflow.log_param(\"Area under Precision Recall Curve\", aucpr)\n",
        "\n",
        "\n",
        "    tracking_url_type_store = urlparse(mlflow.get_tracking_uri()).scheme\n",
        "\n",
        "    # Model regi\n",
        "    if tracking_url_type_store != \"file\":\n",
        "        mlflow.sklearn.log_model(Model, \"model\", registered_model_name=\"Random Forest Classifier\")\n",
        "    else:\n",
        "        mlflow.sklearn.log_model(Model, \"model\")"
      ]
    },
    {
      "cell_type": "markdown",
      "metadata": {
        "id": "g-Lk6DWhVX2O"
      },
      "source": [
        "# Based on Recall and Precission Logistic Regression is the best out of 3 benchmarked models before parameter tuning. Also SVM and Random Forest model may overfit the data as accuracy score in training data is 1 for both the models."
      ]
    },
    {
      "cell_type": "markdown",
      "metadata": {
        "id": "iIPIW_dgW1eX"
      },
      "source": [
        "# Tune hyperparameters of Logistic Regression model"
      ]
    },
    {
      "cell_type": "code",
      "execution_count": null,
      "metadata": {
        "id": "0bSDcrknvmyh"
      },
      "outputs": [],
      "source": [
        "LR_model = Pipeline([\n",
        "            ('tfidf', TfidfVectorizer(stop_words='english')),\n",
        "            ('clf', LogisticRegression(random_state=42))\n",
        "        ])\n",
        "\n",
        "LR_model_params =  {\n",
        "        'tfidf__max_df': [0.5, 0.75],\n",
        "        'tfidf__ngram_range': [(1, 1), (1, 2)],\n",
        "        'clf__C': [0.1, 1, 10]\n",
        "    }"
      ]
    },
    {
      "cell_type": "code",
      "execution_count": null,
      "metadata": {
        "colab": {
          "base_uri": "https://localhost:8080/"
        },
        "id": "da052n6EwgAu",
        "outputId": "cd658dcf-b3a7-4df5-d3f0-252984fe645d"
      },
      "outputs": [
        {
          "name": "stdout",
          "output_type": "stream",
          "text": [
            "Fitting 3 folds for each of 12 candidates, totalling 36 fits\n",
            "Best parameters for LR_model :\n",
            "{'clf__C': 10, 'tfidf__max_df': 0.5, 'tfidf__ngram_range': (1, 1)}\n"
          ]
        }
      ],
      "source": [
        "grid_search = GridSearchCV(LR_model, LR_model_params, cv=3, n_jobs=-1, verbose=1)\n",
        "grid_search.fit(X_train,y_train )\n",
        "\n",
        "print(f\"Best parameters for LR_model :\")\n",
        "print(grid_search.best_params_)\n",
        "\n",
        "tuned_LR_model=grid_search.best_estimator_"
      ]
    },
    {
      "cell_type": "markdown",
      "metadata": {
        "id": "v0800ZY7w99d"
      },
      "source": [
        "## Classification report on Test Data for Tuned Logistic Regression Model"
      ]
    },
    {
      "cell_type": "code",
      "execution_count": null,
      "metadata": {
        "colab": {
          "base_uri": "https://localhost:8080/",
          "height": 608
        },
        "id": "NVsZpe0AwSMv",
        "outputId": "393beae5-8588-416b-c130-55a6138bc028"
      },
      "outputs": [
        {
          "name": "stdout",
          "output_type": "stream",
          "text": [
            "Classification Report for Tuned_LR_Model:\n",
            "              precision    recall  f1-score   support\n",
            "\n",
            "           0       0.99      1.00      0.99       211\n",
            "           1       0.99      0.96      0.97        76\n",
            "\n",
            "    accuracy                           0.99       287\n",
            "   macro avg       0.99      0.98      0.98       287\n",
            "weighted avg       0.99      0.99      0.99       287\n",
            "\n",
            "\n"
          ]
        },
        {
          "data": {
            "image/png": "[encoded data removed]",
            "text/plain": [
              "<Figure size 480x480 with 2 Axes>"
            ]
          },
          "metadata": {},
          "output_type": "display_data"
        }
      ],
      "source": [
        "y_pred = tuned_LR_model.predict(X_test)\n",
        "report = classification_report(y_test, y_pred)\n",
        "print(f\"Classification Report for Tuned_LR_Model:\\n{report}\\n\")\n",
        "plt.matshow(confusion_matrix(y_test, y_pred),\n",
        "            cmap=plt.cm.binary,\n",
        "            interpolation='nearest')\n",
        "plt.title('Confusion Matrix Test Data for Logistic Regression')\n",
        "plt.colorbar()\n",
        "plt.ylabel('Expected Label')\n",
        "plt.xlabel('Predicted Label')\n",
        "plt.show()"
      ]
    },
    {
      "cell_type": "code",
      "execution_count": null,
      "metadata": {
        "id": "Ffw5dL5xzLiN"
      },
      "outputs": [],
      "source": []
    }
  ],
  "metadata": {
    "colab": {
      "provenance": []
    },
    "kernelspec": {
      "display_name": "Python 3",
      "name": "python3"
    },
    "language_info": {
      "codemirror_mode": {
        "name": "ipython",
        "version": 3
      },
      "file_extension": ".py",
      "mimetype": "text/x-python",
      "name": "python",
      "nbconvert_exporter": "python",
      "pygments_lexer": "ipython3",
      "version": "3.10.2"
    },
    "widgets": {
      "application/vnd.jupyter.widget-state+json": {
        "0c755fd26bab42d4882eaa6880495f03": {
          "model_module": "@jupyter-widgets/base",
          "model_module_version": "1.2.0",
          "model_name": "LayoutModel",
          "state": {
            "_model_module": "@jupyter-widgets/base",
            "_model_module_version": "1.2.0",
            "_model_name": "LayoutModel",
            "_view_count": null,
            "_view_module": "@jupyter-widgets/base",
            "_view_module_version": "1.2.0",
            "_view_name": "LayoutView",
            "align_content": null,
            "align_items": null,
            "align_self": null,
            "border": null,
            "bottom": null,
            "display": null,
            "flex": null,
            "flex_flow": null,
            "grid_area": null,
            "grid_auto_columns": null,
            "grid_auto_flow": null,
            "grid_auto_rows": null,
            "grid_column": null,
            "grid_gap": null,
            "grid_row": null,
            "grid_template_areas": null,
            "grid_template_columns": null,
            "grid_template_rows": null,
            "height": null,
            "justify_content": null,
            "justify_items": null,
            "left": null,
            "margin": null,
            "max_height": null,
            "max_width": null,
            "min_height": null,
            "min_width": null,
            "object_fit": null,
            "object_position": null,
            "order": null,
            "overflow": null,
            "overflow_x": null,
            "overflow_y": null,
            "padding": null,
            "right": null,
            "top": null,
            "visibility": null,
            "width": null
          }
        },
        "16bed75bf3274f0b83e3424db52d525d": {
          "model_module": "@jupyter-widgets/base",
          "model_module_version": "1.2.0",
          "model_name": "LayoutModel",
          "state": {
            "_model_module": "@jupyter-widgets/base",
            "_model_module_version": "1.2.0",
            "_model_name": "LayoutModel",
            "_view_count": null,
            "_view_module": "@jupyter-widgets/base",
            "_view_module_version": "1.2.0",
            "_view_name": "LayoutView",
            "align_content": null,
            "align_items": null,
            "align_self": null,
            "border": null,
            "bottom": null,
            "display": null,
            "flex": null,
            "flex_flow": null,
            "grid_area": null,
            "grid_auto_columns": null,
            "grid_auto_flow": null,
            "grid_auto_rows": null,
            "grid_column": null,
            "grid_gap": null,
            "grid_row": null,
            "grid_template_areas": null,
            "grid_template_columns": null,
            "grid_template_rows": null,
            "height": null,
            "justify_content": null,
            "justify_items": null,
            "left": null,
            "margin": null,
            "max_height": null,
            "max_width": null,
            "min_height": null,
            "min_width": null,
            "object_fit": null,
            "object_position": null,
            "order": null,
            "overflow": null,
            "overflow_x": null,
            "overflow_y": null,
            "padding": null,
            "right": null,
            "top": null,
            "visibility": null,
            "width": null
          }
        },
        "3972dfcb0b65418e8b87561b1a2af122": {
          "model_module": "@jupyter-widgets/base",
          "model_module_version": "1.2.0",
          "model_name": "LayoutModel",
          "state": {
            "_model_module": "@jupyter-widgets/base",
            "_model_module_version": "1.2.0",
            "_model_name": "LayoutModel",
            "_view_count": null,
            "_view_module": "@jupyter-widgets/base",
            "_view_module_version": "1.2.0",
            "_view_name": "LayoutView",
            "align_content": null,
            "align_items": null,
            "align_self": null,
            "border": null,
            "bottom": null,
            "display": null,
            "flex": null,
            "flex_flow": null,
            "grid_area": null,
            "grid_auto_columns": null,
            "grid_auto_flow": null,
            "grid_auto_rows": null,
            "grid_column": null,
            "grid_gap": null,
            "grid_row": null,
            "grid_template_areas": null,
            "grid_template_columns": null,
            "grid_template_rows": null,
            "height": null,
            "justify_content": null,
            "justify_items": null,
            "left": null,
            "margin": null,
            "max_height": null,
            "max_width": null,
            "min_height": null,
            "min_width": null,
            "object_fit": null,
            "object_position": null,
            "order": null,
            "overflow": null,
            "overflow_x": null,
            "overflow_y": null,
            "padding": null,
            "right": null,
            "top": null,
            "visibility": null,
            "width": null
          }
        },
        "406d696e36be471a90ed12082077eba1": {
          "model_module": "@jupyter-widgets/controls",
          "model_module_version": "1.5.0",
          "model_name": "DescriptionStyleModel",
          "state": {
            "_model_module": "@jupyter-widgets/controls",
            "_model_module_version": "1.5.0",
            "_model_name": "DescriptionStyleModel",
            "_view_count": null,
            "_view_module": "@jupyter-widgets/base",
            "_view_module_version": "1.2.0",
            "_view_name": "StyleView",
            "description_width": ""
          }
        },
        "623fed58596741e69d80b436c8b67b55": {
          "model_module": "@jupyter-widgets/controls",
          "model_module_version": "1.5.0",
          "model_name": "HBoxModel",
          "state": {
            "_dom_classes": [],
            "_model_module": "@jupyter-widgets/controls",
            "_model_module_version": "1.5.0",
            "_model_name": "HBoxModel",
            "_view_count": null,
            "_view_module": "@jupyter-widgets/controls",
            "_view_module_version": "1.5.0",
            "_view_name": "HBoxView",
            "box_style": "",
            "children": [
              "IPY_MODEL_ff9a07611ef44090a134fa5a7509bf7e",
              "IPY_MODEL_719f9935b5b54541a86f226ed277cb7a",
              "IPY_MODEL_749cf38fadea4ed6b901a62c11df28d6"
            ],
            "layout": "IPY_MODEL_0c755fd26bab42d4882eaa6880495f03"
          }
        },
        "719f9935b5b54541a86f226ed277cb7a": {
          "model_module": "@jupyter-widgets/controls",
          "model_module_version": "1.5.0",
          "model_name": "FloatProgressModel",
          "state": {
            "_dom_classes": [],
            "_model_module": "@jupyter-widgets/controls",
            "_model_module_version": "1.5.0",
            "_model_name": "FloatProgressModel",
            "_view_count": null,
            "_view_module": "@jupyter-widgets/controls",
            "_view_module_version": "1.5.0",
            "_view_name": "ProgressView",
            "bar_style": "success",
            "description": "",
            "description_tooltip": null,
            "layout": "IPY_MODEL_3972dfcb0b65418e8b87561b1a2af122",
            "max": 3,
            "min": 0,
            "orientation": "horizontal",
            "style": "IPY_MODEL_c3b5f1fb02334f91a7e61919866c0ec2",
            "value": 3
          }
        },
        "749cf38fadea4ed6b901a62c11df28d6": {
          "model_module": "@jupyter-widgets/controls",
          "model_module_version": "1.5.0",
          "model_name": "HTMLModel",
          "state": {
            "_dom_classes": [],
            "_model_module": "@jupyter-widgets/controls",
            "_model_module_version": "1.5.0",
            "_model_name": "HTMLModel",
            "_view_count": null,
            "_view_module": "@jupyter-widgets/controls",
            "_view_module_version": "1.5.0",
            "_view_name": "HTMLView",
            "description": "",
            "description_tooltip": null,
            "layout": "IPY_MODEL_ba4538bdcbe943619eccc3fa5da50c0b",
            "placeholder": "​",
            "style": "IPY_MODEL_406d696e36be471a90ed12082077eba1",
            "value": " 3/3 [00:40&lt;00:00, 16.62s/it]"
          }
        },
        "ba4538bdcbe943619eccc3fa5da50c0b": {
          "model_module": "@jupyter-widgets/base",
          "model_module_version": "1.2.0",
          "model_name": "LayoutModel",
          "state": {
            "_model_module": "@jupyter-widgets/base",
            "_model_module_version": "1.2.0",
            "_model_name": "LayoutModel",
            "_view_count": null,
            "_view_module": "@jupyter-widgets/base",
            "_view_module_version": "1.2.0",
            "_view_name": "LayoutView",
            "align_content": null,
            "align_items": null,
            "align_self": null,
            "border": null,
            "bottom": null,
            "display": null,
            "flex": null,
            "flex_flow": null,
            "grid_area": null,
            "grid_auto_columns": null,
            "grid_auto_flow": null,
            "grid_auto_rows": null,
            "grid_column": null,
            "grid_gap": null,
            "grid_row": null,
            "grid_template_areas": null,
            "grid_template_columns": null,
            "grid_template_rows": null,
            "height": null,
            "justify_content": null,
            "justify_items": null,
            "left": null,
            "margin": null,
            "max_height": null,
            "max_width": null,
            "min_height": null,
            "min_width": null,
            "object_fit": null,
            "object_position": null,
            "order": null,
            "overflow": null,
            "overflow_x": null,
            "overflow_y": null,
            "padding": null,
            "right": null,
            "top": null,
            "visibility": null,
            "width": null
          }
        },
        "c3b5f1fb02334f91a7e61919866c0ec2": {
          "model_module": "@jupyter-widgets/controls",
          "model_module_version": "1.5.0",
          "model_name": "ProgressStyleModel",
          "state": {
            "_model_module": "@jupyter-widgets/controls",
            "_model_module_version": "1.5.0",
            "_model_name": "ProgressStyleModel",
            "_view_count": null,
            "_view_module": "@jupyter-widgets/base",
            "_view_module_version": "1.2.0",
            "_view_name": "StyleView",
            "bar_color": null,
            "description_width": ""
          }
        },
        "d7efa6d788a1423588a739667044a209": {
          "model_module": "@jupyter-widgets/controls",
          "model_module_version": "1.5.0",
          "model_name": "DescriptionStyleModel",
          "state": {
            "_model_module": "@jupyter-widgets/controls",
            "_model_module_version": "1.5.0",
            "_model_name": "DescriptionStyleModel",
            "_view_count": null,
            "_view_module": "@jupyter-widgets/base",
            "_view_module_version": "1.2.0",
            "_view_name": "StyleView",
            "description_width": ""
          }
        },
        "ff9a07611ef44090a134fa5a7509bf7e": {
          "model_module": "@jupyter-widgets/controls",
          "model_module_version": "1.5.0",
          "model_name": "HTMLModel",
          "state": {
            "_dom_classes": [],
            "_model_module": "@jupyter-widgets/controls",
            "_model_module_version": "1.5.0",
            "_model_name": "HTMLModel",
            "_view_count": null,
            "_view_module": "@jupyter-widgets/controls",
            "_view_module_version": "1.5.0",
            "_view_name": "HTMLView",
            "description": "",
            "description_tooltip": null,
            "layout": "IPY_MODEL_16bed75bf3274f0b83e3424db52d525d",
            "placeholder": "​",
            "style": "IPY_MODEL_d7efa6d788a1423588a739667044a209",
            "value": "Training Models: 100%"
          }
        }
      }
    }
  },
  "nbformat": 4,
  "nbformat_minor": 0
}
